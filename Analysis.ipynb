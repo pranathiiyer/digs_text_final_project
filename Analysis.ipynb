{
  "nbformat": 4,
  "nbformat_minor": 0,
  "metadata": {
    "colab": {
      "provenance": [],
      "machine_shape": "hm",
      "gpuType": "V100"
    },
    "kernelspec": {
      "name": "python3",
      "display_name": "Python 3"
    },
    "language_info": {
      "name": "python"
    },
    "accelerator": "GPU",
    "gpuClass": "standard",
    "widgets": {
      "application/vnd.jupyter.widget-state+json": {
        "58193e304cc044e2afcb8c1caa45b45b": {
          "model_module": "@jupyter-widgets/controls",
          "model_name": "HBoxModel",
          "model_module_version": "1.5.0",
          "state": {
            "_dom_classes": [],
            "_model_module": "@jupyter-widgets/controls",
            "_model_module_version": "1.5.0",
            "_model_name": "HBoxModel",
            "_view_count": null,
            "_view_module": "@jupyter-widgets/controls",
            "_view_module_version": "1.5.0",
            "_view_name": "HBoxView",
            "box_style": "",
            "children": [
              "IPY_MODEL_5819064ca72544a1a5dcd692b6fd2f0b",
              "IPY_MODEL_a4ae4b16d48a48dcbabea04331b486a6",
              "IPY_MODEL_4b5313498f9f4ec9a15a364ee7ed6b25"
            ],
            "layout": "IPY_MODEL_e6ed6f8214b04610bca46f4ab74618b6"
          }
        },
        "5819064ca72544a1a5dcd692b6fd2f0b": {
          "model_module": "@jupyter-widgets/controls",
          "model_name": "HTMLModel",
          "model_module_version": "1.5.0",
          "state": {
            "_dom_classes": [],
            "_model_module": "@jupyter-widgets/controls",
            "_model_module_version": "1.5.0",
            "_model_name": "HTMLModel",
            "_view_count": null,
            "_view_module": "@jupyter-widgets/controls",
            "_view_module_version": "1.5.0",
            "_view_name": "HTMLView",
            "description": "",
            "description_tooltip": null,
            "layout": "IPY_MODEL_f2b51641b57146b4ab412edf08e949b5",
            "placeholder": "​",
            "style": "IPY_MODEL_39cc2ed965d444fca1f69102b6f18424",
            "value": "Downloading (…)solve/main/vocab.txt: 100%"
          }
        },
        "a4ae4b16d48a48dcbabea04331b486a6": {
          "model_module": "@jupyter-widgets/controls",
          "model_name": "FloatProgressModel",
          "model_module_version": "1.5.0",
          "state": {
            "_dom_classes": [],
            "_model_module": "@jupyter-widgets/controls",
            "_model_module_version": "1.5.0",
            "_model_name": "FloatProgressModel",
            "_view_count": null,
            "_view_module": "@jupyter-widgets/controls",
            "_view_module_version": "1.5.0",
            "_view_name": "ProgressView",
            "bar_style": "success",
            "description": "",
            "description_tooltip": null,
            "layout": "IPY_MODEL_5bc50008b1454be48792a8aedbf30ea6",
            "max": 231508,
            "min": 0,
            "orientation": "horizontal",
            "style": "IPY_MODEL_54714e9a811c4b5283460b011d317baa",
            "value": 231508
          }
        },
        "4b5313498f9f4ec9a15a364ee7ed6b25": {
          "model_module": "@jupyter-widgets/controls",
          "model_name": "HTMLModel",
          "model_module_version": "1.5.0",
          "state": {
            "_dom_classes": [],
            "_model_module": "@jupyter-widgets/controls",
            "_model_module_version": "1.5.0",
            "_model_name": "HTMLModel",
            "_view_count": null,
            "_view_module": "@jupyter-widgets/controls",
            "_view_module_version": "1.5.0",
            "_view_name": "HTMLView",
            "description": "",
            "description_tooltip": null,
            "layout": "IPY_MODEL_d20287a777fc47bca6d479a8a01720aa",
            "placeholder": "​",
            "style": "IPY_MODEL_e8acea569f844333909dc8283e8d9f5d",
            "value": " 232k/232k [00:00&lt;00:00, 1.92MB/s]"
          }
        },
        "e6ed6f8214b04610bca46f4ab74618b6": {
          "model_module": "@jupyter-widgets/base",
          "model_name": "LayoutModel",
          "model_module_version": "1.2.0",
          "state": {
            "_model_module": "@jupyter-widgets/base",
            "_model_module_version": "1.2.0",
            "_model_name": "LayoutModel",
            "_view_count": null,
            "_view_module": "@jupyter-widgets/base",
            "_view_module_version": "1.2.0",
            "_view_name": "LayoutView",
            "align_content": null,
            "align_items": null,
            "align_self": null,
            "border": null,
            "bottom": null,
            "display": null,
            "flex": null,
            "flex_flow": null,
            "grid_area": null,
            "grid_auto_columns": null,
            "grid_auto_flow": null,
            "grid_auto_rows": null,
            "grid_column": null,
            "grid_gap": null,
            "grid_row": null,
            "grid_template_areas": null,
            "grid_template_columns": null,
            "grid_template_rows": null,
            "height": null,
            "justify_content": null,
            "justify_items": null,
            "left": null,
            "margin": null,
            "max_height": null,
            "max_width": null,
            "min_height": null,
            "min_width": null,
            "object_fit": null,
            "object_position": null,
            "order": null,
            "overflow": null,
            "overflow_x": null,
            "overflow_y": null,
            "padding": null,
            "right": null,
            "top": null,
            "visibility": null,
            "width": null
          }
        },
        "f2b51641b57146b4ab412edf08e949b5": {
          "model_module": "@jupyter-widgets/base",
          "model_name": "LayoutModel",
          "model_module_version": "1.2.0",
          "state": {
            "_model_module": "@jupyter-widgets/base",
            "_model_module_version": "1.2.0",
            "_model_name": "LayoutModel",
            "_view_count": null,
            "_view_module": "@jupyter-widgets/base",
            "_view_module_version": "1.2.0",
            "_view_name": "LayoutView",
            "align_content": null,
            "align_items": null,
            "align_self": null,
            "border": null,
            "bottom": null,
            "display": null,
            "flex": null,
            "flex_flow": null,
            "grid_area": null,
            "grid_auto_columns": null,
            "grid_auto_flow": null,
            "grid_auto_rows": null,
            "grid_column": null,
            "grid_gap": null,
            "grid_row": null,
            "grid_template_areas": null,
            "grid_template_columns": null,
            "grid_template_rows": null,
            "height": null,
            "justify_content": null,
            "justify_items": null,
            "left": null,
            "margin": null,
            "max_height": null,
            "max_width": null,
            "min_height": null,
            "min_width": null,
            "object_fit": null,
            "object_position": null,
            "order": null,
            "overflow": null,
            "overflow_x": null,
            "overflow_y": null,
            "padding": null,
            "right": null,
            "top": null,
            "visibility": null,
            "width": null
          }
        },
        "39cc2ed965d444fca1f69102b6f18424": {
          "model_module": "@jupyter-widgets/controls",
          "model_name": "DescriptionStyleModel",
          "model_module_version": "1.5.0",
          "state": {
            "_model_module": "@jupyter-widgets/controls",
            "_model_module_version": "1.5.0",
            "_model_name": "DescriptionStyleModel",
            "_view_count": null,
            "_view_module": "@jupyter-widgets/base",
            "_view_module_version": "1.2.0",
            "_view_name": "StyleView",
            "description_width": ""
          }
        },
        "5bc50008b1454be48792a8aedbf30ea6": {
          "model_module": "@jupyter-widgets/base",
          "model_name": "LayoutModel",
          "model_module_version": "1.2.0",
          "state": {
            "_model_module": "@jupyter-widgets/base",
            "_model_module_version": "1.2.0",
            "_model_name": "LayoutModel",
            "_view_count": null,
            "_view_module": "@jupyter-widgets/base",
            "_view_module_version": "1.2.0",
            "_view_name": "LayoutView",
            "align_content": null,
            "align_items": null,
            "align_self": null,
            "border": null,
            "bottom": null,
            "display": null,
            "flex": null,
            "flex_flow": null,
            "grid_area": null,
            "grid_auto_columns": null,
            "grid_auto_flow": null,
            "grid_auto_rows": null,
            "grid_column": null,
            "grid_gap": null,
            "grid_row": null,
            "grid_template_areas": null,
            "grid_template_columns": null,
            "grid_template_rows": null,
            "height": null,
            "justify_content": null,
            "justify_items": null,
            "left": null,
            "margin": null,
            "max_height": null,
            "max_width": null,
            "min_height": null,
            "min_width": null,
            "object_fit": null,
            "object_position": null,
            "order": null,
            "overflow": null,
            "overflow_x": null,
            "overflow_y": null,
            "padding": null,
            "right": null,
            "top": null,
            "visibility": null,
            "width": null
          }
        },
        "54714e9a811c4b5283460b011d317baa": {
          "model_module": "@jupyter-widgets/controls",
          "model_name": "ProgressStyleModel",
          "model_module_version": "1.5.0",
          "state": {
            "_model_module": "@jupyter-widgets/controls",
            "_model_module_version": "1.5.0",
            "_model_name": "ProgressStyleModel",
            "_view_count": null,
            "_view_module": "@jupyter-widgets/base",
            "_view_module_version": "1.2.0",
            "_view_name": "StyleView",
            "bar_color": null,
            "description_width": ""
          }
        },
        "d20287a777fc47bca6d479a8a01720aa": {
          "model_module": "@jupyter-widgets/base",
          "model_name": "LayoutModel",
          "model_module_version": "1.2.0",
          "state": {
            "_model_module": "@jupyter-widgets/base",
            "_model_module_version": "1.2.0",
            "_model_name": "LayoutModel",
            "_view_count": null,
            "_view_module": "@jupyter-widgets/base",
            "_view_module_version": "1.2.0",
            "_view_name": "LayoutView",
            "align_content": null,
            "align_items": null,
            "align_self": null,
            "border": null,
            "bottom": null,
            "display": null,
            "flex": null,
            "flex_flow": null,
            "grid_area": null,
            "grid_auto_columns": null,
            "grid_auto_flow": null,
            "grid_auto_rows": null,
            "grid_column": null,
            "grid_gap": null,
            "grid_row": null,
            "grid_template_areas": null,
            "grid_template_columns": null,
            "grid_template_rows": null,
            "height": null,
            "justify_content": null,
            "justify_items": null,
            "left": null,
            "margin": null,
            "max_height": null,
            "max_width": null,
            "min_height": null,
            "min_width": null,
            "object_fit": null,
            "object_position": null,
            "order": null,
            "overflow": null,
            "overflow_x": null,
            "overflow_y": null,
            "padding": null,
            "right": null,
            "top": null,
            "visibility": null,
            "width": null
          }
        },
        "e8acea569f844333909dc8283e8d9f5d": {
          "model_module": "@jupyter-widgets/controls",
          "model_name": "DescriptionStyleModel",
          "model_module_version": "1.5.0",
          "state": {
            "_model_module": "@jupyter-widgets/controls",
            "_model_module_version": "1.5.0",
            "_model_name": "DescriptionStyleModel",
            "_view_count": null,
            "_view_module": "@jupyter-widgets/base",
            "_view_module_version": "1.2.0",
            "_view_name": "StyleView",
            "description_width": ""
          }
        },
        "5e2cb523781d429c8d3d51a57016bce9": {
          "model_module": "@jupyter-widgets/controls",
          "model_name": "HBoxModel",
          "model_module_version": "1.5.0",
          "state": {
            "_dom_classes": [],
            "_model_module": "@jupyter-widgets/controls",
            "_model_module_version": "1.5.0",
            "_model_name": "HBoxModel",
            "_view_count": null,
            "_view_module": "@jupyter-widgets/controls",
            "_view_module_version": "1.5.0",
            "_view_name": "HBoxView",
            "box_style": "",
            "children": [
              "IPY_MODEL_848639b4d5c447b09a4188bdec9ecdcb",
              "IPY_MODEL_84209e9289c245e997d9504f7d9b39d2",
              "IPY_MODEL_1d622a90b49449f9886ee59fe1765a75"
            ],
            "layout": "IPY_MODEL_8cb920ecb5c541a3830330340c5ee512"
          }
        },
        "848639b4d5c447b09a4188bdec9ecdcb": {
          "model_module": "@jupyter-widgets/controls",
          "model_name": "HTMLModel",
          "model_module_version": "1.5.0",
          "state": {
            "_dom_classes": [],
            "_model_module": "@jupyter-widgets/controls",
            "_model_module_version": "1.5.0",
            "_model_name": "HTMLModel",
            "_view_count": null,
            "_view_module": "@jupyter-widgets/controls",
            "_view_module_version": "1.5.0",
            "_view_name": "HTMLView",
            "description": "",
            "description_tooltip": null,
            "layout": "IPY_MODEL_de44563369e44b2eaacc927171e40390",
            "placeholder": "​",
            "style": "IPY_MODEL_2a6effbab3a54f5bb9cd3b25d45908ad",
            "value": "Downloading (…)okenizer_config.json: 100%"
          }
        },
        "84209e9289c245e997d9504f7d9b39d2": {
          "model_module": "@jupyter-widgets/controls",
          "model_name": "FloatProgressModel",
          "model_module_version": "1.5.0",
          "state": {
            "_dom_classes": [],
            "_model_module": "@jupyter-widgets/controls",
            "_model_module_version": "1.5.0",
            "_model_name": "FloatProgressModel",
            "_view_count": null,
            "_view_module": "@jupyter-widgets/controls",
            "_view_module_version": "1.5.0",
            "_view_name": "ProgressView",
            "bar_style": "success",
            "description": "",
            "description_tooltip": null,
            "layout": "IPY_MODEL_84179f5f88a34831926cb3baf343f955",
            "max": 28,
            "min": 0,
            "orientation": "horizontal",
            "style": "IPY_MODEL_3341aa0dcb4b49ca907d3af3e609938f",
            "value": 28
          }
        },
        "1d622a90b49449f9886ee59fe1765a75": {
          "model_module": "@jupyter-widgets/controls",
          "model_name": "HTMLModel",
          "model_module_version": "1.5.0",
          "state": {
            "_dom_classes": [],
            "_model_module": "@jupyter-widgets/controls",
            "_model_module_version": "1.5.0",
            "_model_name": "HTMLModel",
            "_view_count": null,
            "_view_module": "@jupyter-widgets/controls",
            "_view_module_version": "1.5.0",
            "_view_name": "HTMLView",
            "description": "",
            "description_tooltip": null,
            "layout": "IPY_MODEL_b3cdf56950b340f788e9bd1f98053025",
            "placeholder": "​",
            "style": "IPY_MODEL_10aa85ad928d498c9464b908ada9f25e",
            "value": " 28.0/28.0 [00:00&lt;00:00, 1.26kB/s]"
          }
        },
        "8cb920ecb5c541a3830330340c5ee512": {
          "model_module": "@jupyter-widgets/base",
          "model_name": "LayoutModel",
          "model_module_version": "1.2.0",
          "state": {
            "_model_module": "@jupyter-widgets/base",
            "_model_module_version": "1.2.0",
            "_model_name": "LayoutModel",
            "_view_count": null,
            "_view_module": "@jupyter-widgets/base",
            "_view_module_version": "1.2.0",
            "_view_name": "LayoutView",
            "align_content": null,
            "align_items": null,
            "align_self": null,
            "border": null,
            "bottom": null,
            "display": null,
            "flex": null,
            "flex_flow": null,
            "grid_area": null,
            "grid_auto_columns": null,
            "grid_auto_flow": null,
            "grid_auto_rows": null,
            "grid_column": null,
            "grid_gap": null,
            "grid_row": null,
            "grid_template_areas": null,
            "grid_template_columns": null,
            "grid_template_rows": null,
            "height": null,
            "justify_content": null,
            "justify_items": null,
            "left": null,
            "margin": null,
            "max_height": null,
            "max_width": null,
            "min_height": null,
            "min_width": null,
            "object_fit": null,
            "object_position": null,
            "order": null,
            "overflow": null,
            "overflow_x": null,
            "overflow_y": null,
            "padding": null,
            "right": null,
            "top": null,
            "visibility": null,
            "width": null
          }
        },
        "de44563369e44b2eaacc927171e40390": {
          "model_module": "@jupyter-widgets/base",
          "model_name": "LayoutModel",
          "model_module_version": "1.2.0",
          "state": {
            "_model_module": "@jupyter-widgets/base",
            "_model_module_version": "1.2.0",
            "_model_name": "LayoutModel",
            "_view_count": null,
            "_view_module": "@jupyter-widgets/base",
            "_view_module_version": "1.2.0",
            "_view_name": "LayoutView",
            "align_content": null,
            "align_items": null,
            "align_self": null,
            "border": null,
            "bottom": null,
            "display": null,
            "flex": null,
            "flex_flow": null,
            "grid_area": null,
            "grid_auto_columns": null,
            "grid_auto_flow": null,
            "grid_auto_rows": null,
            "grid_column": null,
            "grid_gap": null,
            "grid_row": null,
            "grid_template_areas": null,
            "grid_template_columns": null,
            "grid_template_rows": null,
            "height": null,
            "justify_content": null,
            "justify_items": null,
            "left": null,
            "margin": null,
            "max_height": null,
            "max_width": null,
            "min_height": null,
            "min_width": null,
            "object_fit": null,
            "object_position": null,
            "order": null,
            "overflow": null,
            "overflow_x": null,
            "overflow_y": null,
            "padding": null,
            "right": null,
            "top": null,
            "visibility": null,
            "width": null
          }
        },
        "2a6effbab3a54f5bb9cd3b25d45908ad": {
          "model_module": "@jupyter-widgets/controls",
          "model_name": "DescriptionStyleModel",
          "model_module_version": "1.5.0",
          "state": {
            "_model_module": "@jupyter-widgets/controls",
            "_model_module_version": "1.5.0",
            "_model_name": "DescriptionStyleModel",
            "_view_count": null,
            "_view_module": "@jupyter-widgets/base",
            "_view_module_version": "1.2.0",
            "_view_name": "StyleView",
            "description_width": ""
          }
        },
        "84179f5f88a34831926cb3baf343f955": {
          "model_module": "@jupyter-widgets/base",
          "model_name": "LayoutModel",
          "model_module_version": "1.2.0",
          "state": {
            "_model_module": "@jupyter-widgets/base",
            "_model_module_version": "1.2.0",
            "_model_name": "LayoutModel",
            "_view_count": null,
            "_view_module": "@jupyter-widgets/base",
            "_view_module_version": "1.2.0",
            "_view_name": "LayoutView",
            "align_content": null,
            "align_items": null,
            "align_self": null,
            "border": null,
            "bottom": null,
            "display": null,
            "flex": null,
            "flex_flow": null,
            "grid_area": null,
            "grid_auto_columns": null,
            "grid_auto_flow": null,
            "grid_auto_rows": null,
            "grid_column": null,
            "grid_gap": null,
            "grid_row": null,
            "grid_template_areas": null,
            "grid_template_columns": null,
            "grid_template_rows": null,
            "height": null,
            "justify_content": null,
            "justify_items": null,
            "left": null,
            "margin": null,
            "max_height": null,
            "max_width": null,
            "min_height": null,
            "min_width": null,
            "object_fit": null,
            "object_position": null,
            "order": null,
            "overflow": null,
            "overflow_x": null,
            "overflow_y": null,
            "padding": null,
            "right": null,
            "top": null,
            "visibility": null,
            "width": null
          }
        },
        "3341aa0dcb4b49ca907d3af3e609938f": {
          "model_module": "@jupyter-widgets/controls",
          "model_name": "ProgressStyleModel",
          "model_module_version": "1.5.0",
          "state": {
            "_model_module": "@jupyter-widgets/controls",
            "_model_module_version": "1.5.0",
            "_model_name": "ProgressStyleModel",
            "_view_count": null,
            "_view_module": "@jupyter-widgets/base",
            "_view_module_version": "1.2.0",
            "_view_name": "StyleView",
            "bar_color": null,
            "description_width": ""
          }
        },
        "b3cdf56950b340f788e9bd1f98053025": {
          "model_module": "@jupyter-widgets/base",
          "model_name": "LayoutModel",
          "model_module_version": "1.2.0",
          "state": {
            "_model_module": "@jupyter-widgets/base",
            "_model_module_version": "1.2.0",
            "_model_name": "LayoutModel",
            "_view_count": null,
            "_view_module": "@jupyter-widgets/base",
            "_view_module_version": "1.2.0",
            "_view_name": "LayoutView",
            "align_content": null,
            "align_items": null,
            "align_self": null,
            "border": null,
            "bottom": null,
            "display": null,
            "flex": null,
            "flex_flow": null,
            "grid_area": null,
            "grid_auto_columns": null,
            "grid_auto_flow": null,
            "grid_auto_rows": null,
            "grid_column": null,
            "grid_gap": null,
            "grid_row": null,
            "grid_template_areas": null,
            "grid_template_columns": null,
            "grid_template_rows": null,
            "height": null,
            "justify_content": null,
            "justify_items": null,
            "left": null,
            "margin": null,
            "max_height": null,
            "max_width": null,
            "min_height": null,
            "min_width": null,
            "object_fit": null,
            "object_position": null,
            "order": null,
            "overflow": null,
            "overflow_x": null,
            "overflow_y": null,
            "padding": null,
            "right": null,
            "top": null,
            "visibility": null,
            "width": null
          }
        },
        "10aa85ad928d498c9464b908ada9f25e": {
          "model_module": "@jupyter-widgets/controls",
          "model_name": "DescriptionStyleModel",
          "model_module_version": "1.5.0",
          "state": {
            "_model_module": "@jupyter-widgets/controls",
            "_model_module_version": "1.5.0",
            "_model_name": "DescriptionStyleModel",
            "_view_count": null,
            "_view_module": "@jupyter-widgets/base",
            "_view_module_version": "1.2.0",
            "_view_name": "StyleView",
            "description_width": ""
          }
        },
        "775b17ff7c134a55a0a1e64b3a33387d": {
          "model_module": "@jupyter-widgets/controls",
          "model_name": "HBoxModel",
          "model_module_version": "1.5.0",
          "state": {
            "_dom_classes": [],
            "_model_module": "@jupyter-widgets/controls",
            "_model_module_version": "1.5.0",
            "_model_name": "HBoxModel",
            "_view_count": null,
            "_view_module": "@jupyter-widgets/controls",
            "_view_module_version": "1.5.0",
            "_view_name": "HBoxView",
            "box_style": "",
            "children": [
              "IPY_MODEL_8ed262e8baf148aba4488dc0094c6ae8",
              "IPY_MODEL_cdf30aef42114943a772a015f7cb17c1",
              "IPY_MODEL_8d471c9fe91b46d3821009aa5016d87f"
            ],
            "layout": "IPY_MODEL_90d63c6c40c44d68a40d2201c87023c6"
          }
        },
        "8ed262e8baf148aba4488dc0094c6ae8": {
          "model_module": "@jupyter-widgets/controls",
          "model_name": "HTMLModel",
          "model_module_version": "1.5.0",
          "state": {
            "_dom_classes": [],
            "_model_module": "@jupyter-widgets/controls",
            "_model_module_version": "1.5.0",
            "_model_name": "HTMLModel",
            "_view_count": null,
            "_view_module": "@jupyter-widgets/controls",
            "_view_module_version": "1.5.0",
            "_view_name": "HTMLView",
            "description": "",
            "description_tooltip": null,
            "layout": "IPY_MODEL_f1d29be7eeae4fd5aee64a40e47562a6",
            "placeholder": "​",
            "style": "IPY_MODEL_2329588eb655497293633d38408abdc3",
            "value": "Downloading (…)lve/main/config.json: 100%"
          }
        },
        "cdf30aef42114943a772a015f7cb17c1": {
          "model_module": "@jupyter-widgets/controls",
          "model_name": "FloatProgressModel",
          "model_module_version": "1.5.0",
          "state": {
            "_dom_classes": [],
            "_model_module": "@jupyter-widgets/controls",
            "_model_module_version": "1.5.0",
            "_model_name": "FloatProgressModel",
            "_view_count": null,
            "_view_module": "@jupyter-widgets/controls",
            "_view_module_version": "1.5.0",
            "_view_name": "ProgressView",
            "bar_style": "success",
            "description": "",
            "description_tooltip": null,
            "layout": "IPY_MODEL_a9659046cd624d4a8cc10512be81d2b2",
            "max": 570,
            "min": 0,
            "orientation": "horizontal",
            "style": "IPY_MODEL_65fa22cc1bd24a4fb50d8d5ebda5d143",
            "value": 570
          }
        },
        "8d471c9fe91b46d3821009aa5016d87f": {
          "model_module": "@jupyter-widgets/controls",
          "model_name": "HTMLModel",
          "model_module_version": "1.5.0",
          "state": {
            "_dom_classes": [],
            "_model_module": "@jupyter-widgets/controls",
            "_model_module_version": "1.5.0",
            "_model_name": "HTMLModel",
            "_view_count": null,
            "_view_module": "@jupyter-widgets/controls",
            "_view_module_version": "1.5.0",
            "_view_name": "HTMLView",
            "description": "",
            "description_tooltip": null,
            "layout": "IPY_MODEL_61349c4ee9274291a2849f9c431be587",
            "placeholder": "​",
            "style": "IPY_MODEL_d96aba65a7b044128edc450d0ecee7cb",
            "value": " 570/570 [00:00&lt;00:00, 37.4kB/s]"
          }
        },
        "90d63c6c40c44d68a40d2201c87023c6": {
          "model_module": "@jupyter-widgets/base",
          "model_name": "LayoutModel",
          "model_module_version": "1.2.0",
          "state": {
            "_model_module": "@jupyter-widgets/base",
            "_model_module_version": "1.2.0",
            "_model_name": "LayoutModel",
            "_view_count": null,
            "_view_module": "@jupyter-widgets/base",
            "_view_module_version": "1.2.0",
            "_view_name": "LayoutView",
            "align_content": null,
            "align_items": null,
            "align_self": null,
            "border": null,
            "bottom": null,
            "display": null,
            "flex": null,
            "flex_flow": null,
            "grid_area": null,
            "grid_auto_columns": null,
            "grid_auto_flow": null,
            "grid_auto_rows": null,
            "grid_column": null,
            "grid_gap": null,
            "grid_row": null,
            "grid_template_areas": null,
            "grid_template_columns": null,
            "grid_template_rows": null,
            "height": null,
            "justify_content": null,
            "justify_items": null,
            "left": null,
            "margin": null,
            "max_height": null,
            "max_width": null,
            "min_height": null,
            "min_width": null,
            "object_fit": null,
            "object_position": null,
            "order": null,
            "overflow": null,
            "overflow_x": null,
            "overflow_y": null,
            "padding": null,
            "right": null,
            "top": null,
            "visibility": null,
            "width": null
          }
        },
        "f1d29be7eeae4fd5aee64a40e47562a6": {
          "model_module": "@jupyter-widgets/base",
          "model_name": "LayoutModel",
          "model_module_version": "1.2.0",
          "state": {
            "_model_module": "@jupyter-widgets/base",
            "_model_module_version": "1.2.0",
            "_model_name": "LayoutModel",
            "_view_count": null,
            "_view_module": "@jupyter-widgets/base",
            "_view_module_version": "1.2.0",
            "_view_name": "LayoutView",
            "align_content": null,
            "align_items": null,
            "align_self": null,
            "border": null,
            "bottom": null,
            "display": null,
            "flex": null,
            "flex_flow": null,
            "grid_area": null,
            "grid_auto_columns": null,
            "grid_auto_flow": null,
            "grid_auto_rows": null,
            "grid_column": null,
            "grid_gap": null,
            "grid_row": null,
            "grid_template_areas": null,
            "grid_template_columns": null,
            "grid_template_rows": null,
            "height": null,
            "justify_content": null,
            "justify_items": null,
            "left": null,
            "margin": null,
            "max_height": null,
            "max_width": null,
            "min_height": null,
            "min_width": null,
            "object_fit": null,
            "object_position": null,
            "order": null,
            "overflow": null,
            "overflow_x": null,
            "overflow_y": null,
            "padding": null,
            "right": null,
            "top": null,
            "visibility": null,
            "width": null
          }
        },
        "2329588eb655497293633d38408abdc3": {
          "model_module": "@jupyter-widgets/controls",
          "model_name": "DescriptionStyleModel",
          "model_module_version": "1.5.0",
          "state": {
            "_model_module": "@jupyter-widgets/controls",
            "_model_module_version": "1.5.0",
            "_model_name": "DescriptionStyleModel",
            "_view_count": null,
            "_view_module": "@jupyter-widgets/base",
            "_view_module_version": "1.2.0",
            "_view_name": "StyleView",
            "description_width": ""
          }
        },
        "a9659046cd624d4a8cc10512be81d2b2": {
          "model_module": "@jupyter-widgets/base",
          "model_name": "LayoutModel",
          "model_module_version": "1.2.0",
          "state": {
            "_model_module": "@jupyter-widgets/base",
            "_model_module_version": "1.2.0",
            "_model_name": "LayoutModel",
            "_view_count": null,
            "_view_module": "@jupyter-widgets/base",
            "_view_module_version": "1.2.0",
            "_view_name": "LayoutView",
            "align_content": null,
            "align_items": null,
            "align_self": null,
            "border": null,
            "bottom": null,
            "display": null,
            "flex": null,
            "flex_flow": null,
            "grid_area": null,
            "grid_auto_columns": null,
            "grid_auto_flow": null,
            "grid_auto_rows": null,
            "grid_column": null,
            "grid_gap": null,
            "grid_row": null,
            "grid_template_areas": null,
            "grid_template_columns": null,
            "grid_template_rows": null,
            "height": null,
            "justify_content": null,
            "justify_items": null,
            "left": null,
            "margin": null,
            "max_height": null,
            "max_width": null,
            "min_height": null,
            "min_width": null,
            "object_fit": null,
            "object_position": null,
            "order": null,
            "overflow": null,
            "overflow_x": null,
            "overflow_y": null,
            "padding": null,
            "right": null,
            "top": null,
            "visibility": null,
            "width": null
          }
        },
        "65fa22cc1bd24a4fb50d8d5ebda5d143": {
          "model_module": "@jupyter-widgets/controls",
          "model_name": "ProgressStyleModel",
          "model_module_version": "1.5.0",
          "state": {
            "_model_module": "@jupyter-widgets/controls",
            "_model_module_version": "1.5.0",
            "_model_name": "ProgressStyleModel",
            "_view_count": null,
            "_view_module": "@jupyter-widgets/base",
            "_view_module_version": "1.2.0",
            "_view_name": "StyleView",
            "bar_color": null,
            "description_width": ""
          }
        },
        "61349c4ee9274291a2849f9c431be587": {
          "model_module": "@jupyter-widgets/base",
          "model_name": "LayoutModel",
          "model_module_version": "1.2.0",
          "state": {
            "_model_module": "@jupyter-widgets/base",
            "_model_module_version": "1.2.0",
            "_model_name": "LayoutModel",
            "_view_count": null,
            "_view_module": "@jupyter-widgets/base",
            "_view_module_version": "1.2.0",
            "_view_name": "LayoutView",
            "align_content": null,
            "align_items": null,
            "align_self": null,
            "border": null,
            "bottom": null,
            "display": null,
            "flex": null,
            "flex_flow": null,
            "grid_area": null,
            "grid_auto_columns": null,
            "grid_auto_flow": null,
            "grid_auto_rows": null,
            "grid_column": null,
            "grid_gap": null,
            "grid_row": null,
            "grid_template_areas": null,
            "grid_template_columns": null,
            "grid_template_rows": null,
            "height": null,
            "justify_content": null,
            "justify_items": null,
            "left": null,
            "margin": null,
            "max_height": null,
            "max_width": null,
            "min_height": null,
            "min_width": null,
            "object_fit": null,
            "object_position": null,
            "order": null,
            "overflow": null,
            "overflow_x": null,
            "overflow_y": null,
            "padding": null,
            "right": null,
            "top": null,
            "visibility": null,
            "width": null
          }
        },
        "d96aba65a7b044128edc450d0ecee7cb": {
          "model_module": "@jupyter-widgets/controls",
          "model_name": "DescriptionStyleModel",
          "model_module_version": "1.5.0",
          "state": {
            "_model_module": "@jupyter-widgets/controls",
            "_model_module_version": "1.5.0",
            "_model_name": "DescriptionStyleModel",
            "_view_count": null,
            "_view_module": "@jupyter-widgets/base",
            "_view_module_version": "1.2.0",
            "_view_name": "StyleView",
            "description_width": ""
          }
        },
        "991b9cc251364a66852d5a2eb7f030ff": {
          "model_module": "@jupyter-widgets/controls",
          "model_name": "HBoxModel",
          "model_module_version": "1.5.0",
          "state": {
            "_dom_classes": [],
            "_model_module": "@jupyter-widgets/controls",
            "_model_module_version": "1.5.0",
            "_model_name": "HBoxModel",
            "_view_count": null,
            "_view_module": "@jupyter-widgets/controls",
            "_view_module_version": "1.5.0",
            "_view_name": "HBoxView",
            "box_style": "",
            "children": [
              "IPY_MODEL_d39fb24c3e034e918b8a710d4efba137",
              "IPY_MODEL_c2621e803aad4414a8efe9caf7529702",
              "IPY_MODEL_87ea742a7c2d4b9a858ee10a2ff7a59f"
            ],
            "layout": "IPY_MODEL_a85de5c1346c4380945f089bd1155a5d"
          }
        },
        "d39fb24c3e034e918b8a710d4efba137": {
          "model_module": "@jupyter-widgets/controls",
          "model_name": "HTMLModel",
          "model_module_version": "1.5.0",
          "state": {
            "_dom_classes": [],
            "_model_module": "@jupyter-widgets/controls",
            "_model_module_version": "1.5.0",
            "_model_name": "HTMLModel",
            "_view_count": null,
            "_view_module": "@jupyter-widgets/controls",
            "_view_module_version": "1.5.0",
            "_view_name": "HTMLView",
            "description": "",
            "description_tooltip": null,
            "layout": "IPY_MODEL_9755ea04d2724db88b257fb81819c588",
            "placeholder": "​",
            "style": "IPY_MODEL_ccfcfef100c44b25a23e3c8d16e2984f",
            "value": "Downloading pytorch_model.bin: 100%"
          }
        },
        "c2621e803aad4414a8efe9caf7529702": {
          "model_module": "@jupyter-widgets/controls",
          "model_name": "FloatProgressModel",
          "model_module_version": "1.5.0",
          "state": {
            "_dom_classes": [],
            "_model_module": "@jupyter-widgets/controls",
            "_model_module_version": "1.5.0",
            "_model_name": "FloatProgressModel",
            "_view_count": null,
            "_view_module": "@jupyter-widgets/controls",
            "_view_module_version": "1.5.0",
            "_view_name": "ProgressView",
            "bar_style": "success",
            "description": "",
            "description_tooltip": null,
            "layout": "IPY_MODEL_d5df98b95b574ad09adae78e863a0e67",
            "max": 440473133,
            "min": 0,
            "orientation": "horizontal",
            "style": "IPY_MODEL_5c7c12bbad72494db4154edd34c8091a",
            "value": 440473133
          }
        },
        "87ea742a7c2d4b9a858ee10a2ff7a59f": {
          "model_module": "@jupyter-widgets/controls",
          "model_name": "HTMLModel",
          "model_module_version": "1.5.0",
          "state": {
            "_dom_classes": [],
            "_model_module": "@jupyter-widgets/controls",
            "_model_module_version": "1.5.0",
            "_model_name": "HTMLModel",
            "_view_count": null,
            "_view_module": "@jupyter-widgets/controls",
            "_view_module_version": "1.5.0",
            "_view_name": "HTMLView",
            "description": "",
            "description_tooltip": null,
            "layout": "IPY_MODEL_ea2e22ab4a1f418f8e82dce87c204e7d",
            "placeholder": "​",
            "style": "IPY_MODEL_9417aeaa5763442685d42e9dc480a588",
            "value": " 440M/440M [00:04&lt;00:00, 66.3MB/s]"
          }
        },
        "a85de5c1346c4380945f089bd1155a5d": {
          "model_module": "@jupyter-widgets/base",
          "model_name": "LayoutModel",
          "model_module_version": "1.2.0",
          "state": {
            "_model_module": "@jupyter-widgets/base",
            "_model_module_version": "1.2.0",
            "_model_name": "LayoutModel",
            "_view_count": null,
            "_view_module": "@jupyter-widgets/base",
            "_view_module_version": "1.2.0",
            "_view_name": "LayoutView",
            "align_content": null,
            "align_items": null,
            "align_self": null,
            "border": null,
            "bottom": null,
            "display": null,
            "flex": null,
            "flex_flow": null,
            "grid_area": null,
            "grid_auto_columns": null,
            "grid_auto_flow": null,
            "grid_auto_rows": null,
            "grid_column": null,
            "grid_gap": null,
            "grid_row": null,
            "grid_template_areas": null,
            "grid_template_columns": null,
            "grid_template_rows": null,
            "height": null,
            "justify_content": null,
            "justify_items": null,
            "left": null,
            "margin": null,
            "max_height": null,
            "max_width": null,
            "min_height": null,
            "min_width": null,
            "object_fit": null,
            "object_position": null,
            "order": null,
            "overflow": null,
            "overflow_x": null,
            "overflow_y": null,
            "padding": null,
            "right": null,
            "top": null,
            "visibility": null,
            "width": null
          }
        },
        "9755ea04d2724db88b257fb81819c588": {
          "model_module": "@jupyter-widgets/base",
          "model_name": "LayoutModel",
          "model_module_version": "1.2.0",
          "state": {
            "_model_module": "@jupyter-widgets/base",
            "_model_module_version": "1.2.0",
            "_model_name": "LayoutModel",
            "_view_count": null,
            "_view_module": "@jupyter-widgets/base",
            "_view_module_version": "1.2.0",
            "_view_name": "LayoutView",
            "align_content": null,
            "align_items": null,
            "align_self": null,
            "border": null,
            "bottom": null,
            "display": null,
            "flex": null,
            "flex_flow": null,
            "grid_area": null,
            "grid_auto_columns": null,
            "grid_auto_flow": null,
            "grid_auto_rows": null,
            "grid_column": null,
            "grid_gap": null,
            "grid_row": null,
            "grid_template_areas": null,
            "grid_template_columns": null,
            "grid_template_rows": null,
            "height": null,
            "justify_content": null,
            "justify_items": null,
            "left": null,
            "margin": null,
            "max_height": null,
            "max_width": null,
            "min_height": null,
            "min_width": null,
            "object_fit": null,
            "object_position": null,
            "order": null,
            "overflow": null,
            "overflow_x": null,
            "overflow_y": null,
            "padding": null,
            "right": null,
            "top": null,
            "visibility": null,
            "width": null
          }
        },
        "ccfcfef100c44b25a23e3c8d16e2984f": {
          "model_module": "@jupyter-widgets/controls",
          "model_name": "DescriptionStyleModel",
          "model_module_version": "1.5.0",
          "state": {
            "_model_module": "@jupyter-widgets/controls",
            "_model_module_version": "1.5.0",
            "_model_name": "DescriptionStyleModel",
            "_view_count": null,
            "_view_module": "@jupyter-widgets/base",
            "_view_module_version": "1.2.0",
            "_view_name": "StyleView",
            "description_width": ""
          }
        },
        "d5df98b95b574ad09adae78e863a0e67": {
          "model_module": "@jupyter-widgets/base",
          "model_name": "LayoutModel",
          "model_module_version": "1.2.0",
          "state": {
            "_model_module": "@jupyter-widgets/base",
            "_model_module_version": "1.2.0",
            "_model_name": "LayoutModel",
            "_view_count": null,
            "_view_module": "@jupyter-widgets/base",
            "_view_module_version": "1.2.0",
            "_view_name": "LayoutView",
            "align_content": null,
            "align_items": null,
            "align_self": null,
            "border": null,
            "bottom": null,
            "display": null,
            "flex": null,
            "flex_flow": null,
            "grid_area": null,
            "grid_auto_columns": null,
            "grid_auto_flow": null,
            "grid_auto_rows": null,
            "grid_column": null,
            "grid_gap": null,
            "grid_row": null,
            "grid_template_areas": null,
            "grid_template_columns": null,
            "grid_template_rows": null,
            "height": null,
            "justify_content": null,
            "justify_items": null,
            "left": null,
            "margin": null,
            "max_height": null,
            "max_width": null,
            "min_height": null,
            "min_width": null,
            "object_fit": null,
            "object_position": null,
            "order": null,
            "overflow": null,
            "overflow_x": null,
            "overflow_y": null,
            "padding": null,
            "right": null,
            "top": null,
            "visibility": null,
            "width": null
          }
        },
        "5c7c12bbad72494db4154edd34c8091a": {
          "model_module": "@jupyter-widgets/controls",
          "model_name": "ProgressStyleModel",
          "model_module_version": "1.5.0",
          "state": {
            "_model_module": "@jupyter-widgets/controls",
            "_model_module_version": "1.5.0",
            "_model_name": "ProgressStyleModel",
            "_view_count": null,
            "_view_module": "@jupyter-widgets/base",
            "_view_module_version": "1.2.0",
            "_view_name": "StyleView",
            "bar_color": null,
            "description_width": ""
          }
        },
        "ea2e22ab4a1f418f8e82dce87c204e7d": {
          "model_module": "@jupyter-widgets/base",
          "model_name": "LayoutModel",
          "model_module_version": "1.2.0",
          "state": {
            "_model_module": "@jupyter-widgets/base",
            "_model_module_version": "1.2.0",
            "_model_name": "LayoutModel",
            "_view_count": null,
            "_view_module": "@jupyter-widgets/base",
            "_view_module_version": "1.2.0",
            "_view_name": "LayoutView",
            "align_content": null,
            "align_items": null,
            "align_self": null,
            "border": null,
            "bottom": null,
            "display": null,
            "flex": null,
            "flex_flow": null,
            "grid_area": null,
            "grid_auto_columns": null,
            "grid_auto_flow": null,
            "grid_auto_rows": null,
            "grid_column": null,
            "grid_gap": null,
            "grid_row": null,
            "grid_template_areas": null,
            "grid_template_columns": null,
            "grid_template_rows": null,
            "height": null,
            "justify_content": null,
            "justify_items": null,
            "left": null,
            "margin": null,
            "max_height": null,
            "max_width": null,
            "min_height": null,
            "min_width": null,
            "object_fit": null,
            "object_position": null,
            "order": null,
            "overflow": null,
            "overflow_x": null,
            "overflow_y": null,
            "padding": null,
            "right": null,
            "top": null,
            "visibility": null,
            "width": null
          }
        },
        "9417aeaa5763442685d42e9dc480a588": {
          "model_module": "@jupyter-widgets/controls",
          "model_name": "DescriptionStyleModel",
          "model_module_version": "1.5.0",
          "state": {
            "_model_module": "@jupyter-widgets/controls",
            "_model_module_version": "1.5.0",
            "_model_name": "DescriptionStyleModel",
            "_view_count": null,
            "_view_module": "@jupyter-widgets/base",
            "_view_module_version": "1.2.0",
            "_view_name": "StyleView",
            "description_width": ""
          }
        }
      }
    }
  },
  "cells": [
    {
      "cell_type": "markdown",
      "source": [
        "## Analysis\n",
        "In this notebook, I walk the readers through the differences in outputs between a model finetuned on Indian context versus GPT4 and what this could mean. \n",
        "\n",
        "I look at text completion, text summarization, and sentiment analysis."
      ],
      "metadata": {
        "id": "zswajN0X0Akl"
      }
    },
    {
      "cell_type": "markdown",
      "source": [
        "## The model"
      ],
      "metadata": {
        "id": "06m6vPSr0UUL"
      }
    },
    {
      "cell_type": "code",
      "source": [
        "from transformers import GPT2LMHeadModel, GPT2Tokenizer\n",
        "\n",
        "# Load the tokenizer\n",
        "tokenizer = GPT2Tokenizer.from_pretrained('gpt2')\n",
        "\n",
        "# Load the fine-tuned model\n",
        "model = GPT2LMHeadModel.from_pretrained('/content/drive/MyDrive/nlp_final_model/checkpoint-3600/')\n",
        "\n",
        "# Set the model to evaluation mode\n",
        "model.eval()"
      ],
      "metadata": {
        "colab": {
          "base_uri": "https://localhost:8080/"
        },
        "id": "7qwjCVFj-DBJ",
        "outputId": "5d279bd2-e366-4391-9a7d-17e8f6f51d38"
      },
      "execution_count": 4,
      "outputs": [
        {
          "output_type": "execute_result",
          "data": {
            "text/plain": [
              "GPT2LMHeadModel(\n",
              "  (transformer): GPT2Model(\n",
              "    (wte): Embedding(50257, 768)\n",
              "    (wpe): Embedding(1024, 768)\n",
              "    (drop): Dropout(p=0.1, inplace=False)\n",
              "    (h): ModuleList(\n",
              "      (0-11): 12 x GPT2Block(\n",
              "        (ln_1): LayerNorm((768,), eps=1e-05, elementwise_affine=True)\n",
              "        (attn): GPT2Attention(\n",
              "          (c_attn): Conv1D()\n",
              "          (c_proj): Conv1D()\n",
              "          (attn_dropout): Dropout(p=0.1, inplace=False)\n",
              "          (resid_dropout): Dropout(p=0.1, inplace=False)\n",
              "        )\n",
              "        (ln_2): LayerNorm((768,), eps=1e-05, elementwise_affine=True)\n",
              "        (mlp): GPT2MLP(\n",
              "          (c_fc): Conv1D()\n",
              "          (c_proj): Conv1D()\n",
              "          (act): NewGELUActivation()\n",
              "          (dropout): Dropout(p=0.1, inplace=False)\n",
              "        )\n",
              "      )\n",
              "    )\n",
              "    (ln_f): LayerNorm((768,), eps=1e-05, elementwise_affine=True)\n",
              "  )\n",
              "  (lm_head): Linear(in_features=768, out_features=50257, bias=False)\n",
              ")"
            ]
          },
          "metadata": {},
          "execution_count": 4
        }
      ]
    },
    {
      "cell_type": "markdown",
      "source": [
        "## Text Completion\n"
      ],
      "metadata": {
        "id": "rKTSa1AuFlI-"
      }
    },
    {
      "cell_type": "code",
      "source": [
        "prompt = \"Independence Day\"\n",
        "\n",
        "# Tokenize the prompt\n",
        "input_ids = tokenizer.encode(prompt, return_tensors='pt')\n",
        "\n",
        "# Generate text\n",
        "output = model.generate(input_ids, max_length=11, num_return_sequences=1,pad_token_id=tokenizer.eos_token_id)\n",
        "\n",
        "# Decode and print the generated text\n",
        "generated_text = tokenizer.decode(output[0], skip_special_tokens=False)\n",
        "print(generated_text)"
      ],
      "metadata": {
        "colab": {
          "base_uri": "https://localhost:8080/"
        },
        "id": "oYicVnMc-xUE",
        "outputId": "23ea97c2-1e7f-468c-b7b6-5348f5739ca3"
      },
      "execution_count": 17,
      "outputs": [
        {
          "output_type": "stream",
          "name": "stdout",
          "text": [
            "Independence Day celebrations in Delhi\n",
            "Covid-\n"
          ]
        }
      ]
    },
    {
      "cell_type": "markdown",
      "source": [
        "**Sentence generated by gpt4 :**\n",
        "\n",
        "\n",
        "\"The annual celebration of Independence Day brings joy and patriotism to the hearts of people.\""
      ],
      "metadata": {
        "id": "NsoX0mjYoShc"
      }
    },
    {
      "cell_type": "code",
      "source": [
        "prompt = \"What is RBI?\"\n",
        "input_ids = tokenizer.encode(prompt, return_tensors='pt')\n",
        "\n",
        "# Generate text\n",
        "output = model.generate(input_ids, max_length=11, num_return_sequences=1,pad_token_id=tokenizer.eos_token_id)\n",
        "\n",
        "# Decode and print the generated text\n",
        "generated_text = tokenizer.decode(output[0], skip_special_tokens=False)\n",
        "print(generated_text)"
      ],
      "metadata": {
        "colab": {
          "base_uri": "https://localhost:8080/"
        },
        "id": "6EHAtBF6AclW",
        "outputId": "dc95b89e-17c0-401b-88f3-3e7e7ec3d164"
      },
      "execution_count": 16,
      "outputs": [
        {
          "output_type": "stream",
          "name": "stdout",
          "text": [
            "What is RBI?\n",
            "\n",
            "The Reserve Bank of India\n"
          ]
        }
      ]
    },
    {
      "cell_type": "markdown",
      "source": [
        "**Sentence generated by gpt4 :**\n",
        "\n",
        "\"What is RBI?\" stands for the Reserve Bank of India, the country's central banking institution.\n",
        "\n",
        "\n",
        "\n",
        "\n",
        "\n"
      ],
      "metadata": {
        "id": "C4EzwThNo2Z5"
      }
    },
    {
      "cell_type": "code",
      "source": [
        "prompt = \"Doctors and nurses\"\n",
        "input_ids = tokenizer.encode(prompt, return_tensors='pt')\n",
        "\n",
        "# Generate text\n",
        "output = model.generate(input_ids, max_length=17, num_return_sequences=1,pad_token_id=tokenizer.eos_token_id)\n",
        "\n",
        "# Decode and print the generated text\n",
        "generated_text = tokenizer.decode(output[0], skip_special_tokens=True)\n",
        "print(generated_text)"
      ],
      "metadata": {
        "colab": {
          "base_uri": "https://localhost:8080/"
        },
        "id": "3EyjLr7pFsJ6",
        "outputId": "de520f8b-8f3f-41bf-9d1d-4486d293c2bb"
      },
      "execution_count": 127,
      "outputs": [
        {
          "output_type": "stream",
          "name": "stdout",
          "text": [
            "Doctors and nurses in the city are being asked to stay indoors for fear of infection\n",
            "\n"
          ]
        }
      ]
    },
    {
      "cell_type": "markdown",
      "source": [
        "\n",
        "**Sentence generated by gpt4 :**\n",
        "\n",
        "Doctors and nurses work together to provide essential healthcare services and ensure the well-being of patients."
      ],
      "metadata": {
        "id": "-F64AqPIpFrL"
      }
    },
    {
      "cell_type": "code",
      "source": [
        "prompt = \"The United States is\"\n",
        "input_ids = tokenizer.encode(prompt, return_tensors='pt')\n",
        "\n",
        "# Generate text\n",
        "output = model.generate(input_ids, max_length=15, num_return_sequences=1,pad_token_id=tokenizer.eos_token_id)\n",
        "\n",
        "# Decode and print the generated text\n",
        "generated_text = tokenizer.decode(output[0], skip_special_tokens=False)\n",
        "print(generated_text)"
      ],
      "metadata": {
        "colab": {
          "base_uri": "https://localhost:8080/"
        },
        "id": "ruEkspycGtrO",
        "outputId": "b68a6aef-b8c4-475e-db4d-60cd8cfd321d"
      },
      "execution_count": 113,
      "outputs": [
        {
          "output_type": "stream",
          "name": "stdout",
          "text": [
            "The United States is planning to raise $1 billion through a $1 billion\n"
          ]
        }
      ]
    },
    {
      "cell_type": "markdown",
      "source": [
        "**Sentence generated by gpt4 :**\n",
        "\n",
        "The United States is a diverse and dynamic country with a rich history and cultural heritage."
      ],
      "metadata": {
        "id": "aY5FS5GNpTRM"
      }
    },
    {
      "cell_type": "code",
      "source": [
        "prompt = \"Cows should be\"\n",
        "input_ids = tokenizer.encode(prompt, return_tensors='pt')\n",
        "\n",
        "# Generate text\n",
        "output = model.generate(input_ids, max_length=14, num_return_sequences=1,pad_token_id=tokenizer.eos_token_id)\n",
        "\n",
        "# Decode and print the generated text\n",
        "generated_text = tokenizer.decode(output[0], skip_special_tokens=False)\n",
        "print(generated_text)"
      ],
      "metadata": {
        "colab": {
          "base_uri": "https://localhost:8080/"
        },
        "id": "z8WyhbqdHVgV",
        "outputId": "dedaa73b-2a96-4287-a6fa-2a6cae929516"
      },
      "execution_count": 22,
      "outputs": [
        {
          "output_type": "stream",
          "name": "stdout",
          "text": [
            "Cows should be allowed to use the land for their own purposes\n",
            "\n"
          ]
        }
      ]
    },
    {
      "cell_type": "markdown",
      "source": [
        "**Sentence generated by gpt4 :** \n",
        "\n",
        "Cows should be treated with care and respect, as they are sentient beings with their own needs and emotions."
      ],
      "metadata": {
        "id": "e0Kcw0PjplHa"
      }
    },
    {
      "cell_type": "code",
      "source": [
        "prompt = \"Women are\"\n",
        "input_ids = tokenizer.encode(prompt, return_tensors='pt')\n",
        "\n",
        "# Generate text\n",
        "output = model.generate(input_ids, max_length=14, num_return_sequences=1,pad_token_id=tokenizer.eos_token_id)\n",
        "\n",
        "# Decode and print the generated text\n",
        "generated_text = tokenizer.decode(output[0], skip_special_tokens=False)\n",
        "print(generated_text)"
      ],
      "metadata": {
        "colab": {
          "base_uri": "https://localhost:8080/"
        },
        "id": "sYfWAznxmv4K",
        "outputId": "711d60b0-d507-4ae6-d4bd-38a57a123235"
      },
      "execution_count": 123,
      "outputs": [
        {
          "output_type": "stream",
          "name": "stdout",
          "text": [
            "Women are not allowed to wear masks, says MP\n",
            "Bihar:\n"
          ]
        }
      ]
    },
    {
      "cell_type": "markdown",
      "source": [
        "**Sentence generated by gpt4 :**\n",
        "\n",
        "Women are powerful agents of change, capable of achieving great things and shaping the world around them."
      ],
      "metadata": {
        "id": "QgYdEHb0pzGh"
      }
    },
    {
      "cell_type": "markdown",
      "source": [
        "We can see there is a difference in the kinds of sentences that both models produce. For instance, the fine-tuned model recognises Independence Day in the Indian context and mentions Delhi in the sentence whereas GPT4 gives a more general answer. Similarly, cows are associated with being allowed to use land. While this does not make a lot of sense, it could potentially be closely related to agriculture where cows are instrumental in India. GPT4 again gives a more general response that could fit any animal. The sentences involving RBI seem similar, and the other sentences generated by the fine-tuned model involve infection, masks, and other noise which is probably a function of the fact that the training data for the model comes from 2020 when covid had just struck the world.\n",
        "\n",
        "However, we do see hints of nuanced differences in how text is generated/completed between the models. This is also reflective of how someone from India would think of cows and Independence Day versus someone, not from India. Thus, the fine-tuned model does seem to be more aligned with the India context and speaker/writer."
      ],
      "metadata": {
        "id": "Mvou5gKztyXW"
      }
    },
    {
      "cell_type": "markdown",
      "source": [
        "## Text Summarization"
      ],
      "metadata": {
        "id": "F0h2TSHFQQ2f"
      }
    },
    {
      "cell_type": "code",
      "source": [
        "import torch\n",
        "import pprint\n",
        "from transformers import GPT2Tokenizer, GPT2Model\n",
        "import nltk\n",
        "nltk.download('punkt')\n",
        "\n",
        "def tokenize_sentences(text):\n",
        "    # Tokenize the text into sentences\n",
        "    sentences = nltk.sent_tokenize(text)\n",
        "    return sentences\n",
        "\n",
        "def score_sentences(sentences, model, tokenizer):\n",
        "    # Encode the sentences\n",
        "    encoded_inputs = tokenizer(sentences, padding=True, truncation=True, return_tensors='pt')\n",
        "    input_ids = encoded_inputs['input_ids']\n",
        "    \n",
        "    # Obtain contextualized representations from GPT-2\n",
        "    with torch.no_grad():\n",
        "        outputs = model(input_ids=input_ids)\n",
        "        sentence_embeddings = outputs[0]\n",
        "\n",
        "    # Calculate sentence scores based on sentence embeddings\n",
        "    sentence_scores = torch.norm(sentence_embeddings, dim=2).mean(dim=1)  # Example scoring metric: Mean L2-norm\n",
        "\n",
        "    return sentence_scores\n",
        "\n",
        "def extractive_summarization(text, num_sentences=3):\n",
        "    # Load GPT-2 tokenizer and model\n",
        "    tokenizer = GPT2Tokenizer.from_pretrained('gpt2')\n",
        "    tokenizer.add_special_tokens({'pad_token': '[PAD]'})  # Add padding token\n",
        "    model = GPT2LMHeadModel.from_pretrained('/content/drive/MyDrive/nlp_final_model/checkpoint-3600/')\n",
        "    model.resize_token_embeddings(len(tokenizer))\n",
        "    # Tokenize the text into sentences\n",
        "    sentences = tokenize_sentences(text)\n",
        "\n",
        "    # Calculate sentence scores\n",
        "    sentence_scores = score_sentences(sentences, model, tokenizer)\n",
        "\n",
        "    # Select top-scoring sentences for the summary\n",
        "    top_sentences = torch.argsort(sentence_scores, descending=True)[:num_sentences]\n",
        "    summary = [sentences[i] for i in top_sentences]\n",
        "\n",
        "    return ' '.join(summary)\n",
        "\n",
        "# Example usage\n",
        "article_text =\"Books are an essential part of human civilization, serving as vessels of knowledge, \\\n",
        "imagination, and creativity. They offer a unique medium for storytelling, sharing ideas, and preserving \\\n",
        "the wisdom of the past. Throughout history, books have played a significant role in shaping cultures, \\\n",
        "revolutions, and the collective consciousness of societies. \\\n",
        "Books come in various genres, including fiction, non-fiction, poetry, and more, catering to diverse interests \\\n",
        "and preferences. They provide an avenue for escapism, allowing readers to immerse themselves in different worlds,\\\n",
        " explore new perspectives, and experience emotions through vivid characters and compelling narratives. Whether \\\n",
        " it's a thrilling mystery, a thought-provoking philosophical treatise, or a heartfelt love story, books have \\\n",
        " the power to transport readers to realms beyond their everyday lives.\\\n",
        "Beyond entertainment, books serve as invaluable educational tools. They contain a wealth of \\\n",
        "information on virtually every subject imaginable, enabling individuals to acquire knowledge, learn new skills, and expand their intellectual horizons. From textbooks that guide students through academic disciplines to self-help books that offer practical advice, books are instrumental in personal and professional growth.\"\n",
        "summary = extractive_summarization(article_text)\n",
        "pprint.pprint(summary)\n",
        "\n"
      ],
      "metadata": {
        "colab": {
          "base_uri": "https://localhost:8080/"
        },
        "id": "FF1ys1n-bluu",
        "outputId": "44b743af-15e1-4030-bec2-c608c84d86e5"
      },
      "execution_count": 111,
      "outputs": [
        {
          "output_type": "stream",
          "name": "stderr",
          "text": [
            "[nltk_data] Downloading package punkt to /root/nltk_data...\n",
            "[nltk_data]   Package punkt is already up-to-date!\n"
          ]
        },
        {
          "output_type": "stream",
          "name": "stdout",
          "text": [
            "('Throughout history, books have played a significant role in shaping '\n",
            " 'cultures, revolutions, and the collective consciousness of societies. From '\n",
            " 'textbooks that guide students through academic disciplines to self-help '\n",
            " 'books that offer practical advice, books are instrumental in personal and '\n",
            " 'professional growth. They offer a unique medium for storytelling, sharing '\n",
            " 'ideas, and preserving the wisdom of the past.')\n"
          ]
        }
      ]
    },
    {
      "cell_type": "markdown",
      "source": [
        "**Summary generated by GPT4:**\n",
        "\n",
        "Books are essential for human civilization, providing knowledge, imagination, and creativity. They shape cultures, revolutions, and societies. With various genres, books offer escapism and new perspectives. They educate and expand intellectual horizons."
      ],
      "metadata": {
        "id": "qxFyu3cT1KF2"
      }
    },
    {
      "cell_type": "code",
      "source": [
        "article_text =\" Artificial intelligence and music (AIM) is a common subject in the International \\\n",
        "Computer Music Conference, the Computing Society Conference[1] and the International Joint Conference on\\\n",
        " Artificial Intelligence. The first International Computer Music Conference (ICMC) was held in 1974 at \\\n",
        " Michigan State University.[2] Current research includes the application of AI in music composition, \\\n",
        " performance, theory and digital sound processing.\\\n",
        "A key part of this field is the development of music software programs which use AI to produce music.[3] \\\n",
        "As with applications in other fields, AI in music also simulates mental tasks. A prominent feature is the \\\n",
        "capability of an AI algorithm to learn based on past data, such as in computer accompaniment technology, \\\n",
        "wherein the AI is capable of listening to a human performer and performing accompaniment.[4] Artificial \\\n",
        "intelligence also drives interactive composition technology, wherein a computer composes music in response \\\n",
        "to a live performance. There are other AI applications in music that cover not only music composition, \\\n",
        "production, and performance but also how music is marketed and consumed. Several music player programs \\\n",
        "have also been developed to use voice recognition and natural language processing technology for music \\\n",
        "voice control.\"\n",
        "summary = extractive_summarization(article_text)\n",
        "pprint.pprint(summary)"
      ],
      "metadata": {
        "colab": {
          "base_uri": "https://localhost:8080/"
        },
        "id": "-XlCEewEzq70",
        "outputId": "82f2286c-4a3d-4731-934b-dc1cce4f8e96"
      },
      "execution_count": 144,
      "outputs": [
        {
          "output_type": "stream",
          "name": "stdout",
          "text": [
            "('Several music player programs have also been developed to use voice '\n",
            " 'recognition and natural language processing technology for music voice '\n",
            " 'control. [3] As with applications in other fields, AI in music also '\n",
            " 'simulates mental tasks. [4] Artificial intelligence also drives interactive '\n",
            " 'composition technology, wherein a computer composes music in response to a '\n",
            " 'live performance.')\n"
          ]
        }
      ]
    },
    {
      "cell_type": "markdown",
      "source": [
        "**Summary generated by GPT4:**\n",
        "\n",
        "\n",
        "Artificial intelligence (AI) is widely explored in the field of music, with a significant presence in conferences and research. It finds applications in music composition, performance, theory, and digital sound processing. AI-powered music software programs are developed to generate music and simulate mental tasks. Learning algorithms enable AI to analyze past data and provide accompaniment or respond to live performances. AI extends to music marketing, consumption, and player programs with voice recognition and natural language processing capabilities."
      ],
      "metadata": {
        "id": "S-lz8ahe1hoN"
      }
    },
    {
      "cell_type": "markdown",
      "source": [
        "I use cosine similarity to first quantitatively asses how different the summaries generated are."
      ],
      "metadata": {
        "id": "2KVB4fgV1uBF"
      }
    },
    {
      "cell_type": "code",
      "source": [
        "from sklearn.feature_extraction.text import CountVectorizer\n",
        "from sklearn.metrics.pairwise import cosine_similarity\n",
        "\n",
        "def calculate_cosine_similarity(text1, text2):\n",
        "    # Preprocess the texts (lowercase and remove punctuation)\n",
        "    text1 = text1.lower().strip()\n",
        "    text2 = text2.lower().strip()\n",
        "\n",
        "    # Tokenize the texts\n",
        "    tokenizer = CountVectorizer().build_tokenizer()\n",
        "    tokens1 = tokenizer(text1)\n",
        "    tokens2 = tokenizer(text2)\n",
        "\n",
        "    # Create vector representations\n",
        "    vectorizer = CountVectorizer()\n",
        "    vectors = vectorizer.fit_transform([text1, text2]).toarray()\n",
        "    vector1 = vectors[0]\n",
        "    vector2 = vectors[1]\n",
        "\n",
        "    # Calculate cosine similarity\n",
        "    cosine_sim = cosine_similarity([vector1], [vector2])[0][0]\n",
        "    \n",
        "    return cosine_sim"
      ],
      "metadata": {
        "id": "ttla4cuY14Rf"
      },
      "execution_count": 145,
      "outputs": []
    },
    {
      "cell_type": "code",
      "source": [
        "t1 = \"Throughout history, books have played a significant role in shaping '\\\n",
        "'cultures, revolutions, and the collective consciousness of societies. From '\\\n",
        "'textbooks that guide students through academic disciplines to self-help '\\\n",
        "'books that offer practical advice, books are instrumental in personal and '\\\n",
        "'professional growth. They offer a unique medium for storytelling, sharing '\\\n",
        "ideas, and preserving the wisdom of the past.\"\n",
        "\n",
        "gpt1 = \"Books are essential for human civilization, providing knowledge, imagination, \\\n",
        "and creativity. They shape cultures, revolutions, and societies. With various genres, \\\n",
        "books offer escapism and new perspectives. They educate and expand intellectual horizons.\"\n",
        "\n",
        "calculate_cosine_similarity(t1,gpt1)"
      ],
      "metadata": {
        "colab": {
          "base_uri": "https://localhost:8080/"
        },
        "id": "uxzpwdJD2LVe",
        "outputId": "f955c8eb-a9c7-4734-ba2d-78ecfb16fc63"
      },
      "execution_count": 150,
      "outputs": [
        {
          "output_type": "execute_result",
          "data": {
            "text/plain": [
              "0.4303642813177534"
            ]
          },
          "metadata": {},
          "execution_count": 150
        }
      ]
    },
    {
      "cell_type": "code",
      "source": [
        "t2 = \"'Several music player programs have also been developed to use voice '\\\n",
        "'recognition and natural language processing technology for music voice '\\\n",
        "'control. [3] As with applications in other fields, AI in music also '\\\n",
        "'simulates mental tasks. [4] Artificial intelligence also drives interactive '\\\n",
        "'composition technology, wherein a computer composes music in response to a '\\\n",
        "'live performance.'\"\n",
        "\n",
        "gpt2 = \"Artificial intelligence (AI) is widely explored in the field of music, with \\\n",
        "a significant presence in conferences and research. It finds applications in music composition, \\\n",
        "performance, theory, and digital sound processing. AI-powered music software programs are developed to\\\n",
        "generate music and simulate mental tasks. Learning algorithms enable AI to analyze past data and \\\n",
        "provide accompaniment or respond to live performances. AI extends to music marketing, consumption, \\\n",
        "and player programs with voice recognition and natural language processing capabilities.\"\n",
        "\n",
        "\n",
        "calculate_cosine_similarity(t2,gpt2)"
      ],
      "metadata": {
        "colab": {
          "base_uri": "https://localhost:8080/"
        },
        "id": "gPp-LqMC2vVe",
        "outputId": "201b16b3-3da8-4ae8-e312-ff7b62314b01"
      },
      "execution_count": 152,
      "outputs": [
        {
          "output_type": "execute_result",
          "data": {
            "text/plain": [
              "0.5907947710825321"
            ]
          },
          "metadata": {},
          "execution_count": 152
        }
      ]
    },
    {
      "cell_type": "markdown",
      "source": [
        "Thus, we can see that even though both these models summarize the same piece of information, their summaries have a fairly low cosine similarity. There are a few differences that stand out. First, the fine-tuned model produces longer summaries compared to GPT4. Second, the finetuned model also starts its summaries in passive voice such as 'throughout history, books have played' and 'several music player programs have also'. Whereas GPT4 has more active and strong beginnings. Writing in passive voice is a trait of several Indian writers and this is something that could have potentially been picked up from the training data. Moreover, summaries generated by the finetuned model also pick up several words directly from the original text as opposed to GPT4 which synthesized information and uses new words. While this might be a better way of summarizing text, it is not how several Indian speakers/writers do it. Thus, the finetuned model allows for more diversity in how people write text and at the same time could potentially resemble individual writing styles more closely in the Indian context. "
      ],
      "metadata": {
        "id": "8Jzr_OX_3Crc"
      }
    },
    {
      "cell_type": "markdown",
      "source": [
        "## Sentiment Analysis\n",
        "\n",
        "Here I use some of the sentence generated under text completion above and take an average of the sentiment generated across 10 sentences. I then compare this to the average generated by GPT4 to see if there are any systemic changes in both models"
      ],
      "metadata": {
        "id": "526FvGywkSYg"
      }
    },
    {
      "cell_type": "code",
      "source": [
        "sentences = ['Independence Day celebrations in Delhi Covid-', 'What is RBI? The Reserve Bank of India',\n",
        "             'The United States is planning to raise $1 billion through a $1 billion',\n",
        "             'Doctors and nurses in the city are being asked to stay indoors for fear of infection',\n",
        "             'Women are not allowed to wear masks, says MP',\n",
        "             'should be allowed to use the land for their own purposes']"
      ],
      "metadata": {
        "id": "5yMjlUkPdY1W"
      },
      "execution_count": 130,
      "outputs": []
    },
    {
      "cell_type": "code",
      "source": [
        "# sentences by GPT4\n",
        "sentences_gpt = [\"The annual celebration of Independence Day brings joy and patriotism to the hearts of people.\",\n",
        "                 \"What is RBI? stands for the Reserve Bank of India, the country's central banking institution.\",\n",
        "                 'The United States is a diverse and dynamic country with a rich history and cultural heritage.',\n",
        "                 'Doctors and nurses work together to provide essential healthcare services and ensure the well-being of patients.',\n",
        "                 'Cows should be treated with care and respect, as they are sentient beings with their own needs and emotions.',\n",
        "                 'Women are powerful agents of change, capable of achieving great things and shaping the world around them.'\n",
        "\n",
        "]"
      ],
      "metadata": {
        "id": "lBRPh2A4n8in"
      },
      "execution_count": 132,
      "outputs": []
    },
    {
      "cell_type": "code",
      "source": [
        "\n",
        "from transformers import BertTokenizer, BertForSequenceClassification\n",
        "model_name = 'bert-base-uncased'\n",
        "tokenizer = BertTokenizer.from_pretrained(model_name)\n",
        "model = BertForSequenceClassification.from_pretrained(model_name, num_labels=2)\n",
        "\n",
        "def analyze_sentiment(sentence):\n",
        "    # Tokenize the sentence and convert it to input tensors\n",
        "    inputs = tokenizer(sentence, padding=True, truncation=True, return_tensors='pt')\n",
        "\n",
        "    # Forward pass through the model\n",
        "    outputs = model(**inputs)\n",
        "\n",
        "    # Get the predicted logits\n",
        "    logits = outputs.logits\n",
        "\n",
        "    # Apply softmax to convert logits to probabilities\n",
        "    probabilities = torch.softmax(logits, dim=1)\n",
        "\n",
        "    # Get the probability for the positive sentiment class\n",
        "    positive_prob = probabilities[0][1].item()\n",
        "\n",
        "    return positive_prob"
      ],
      "metadata": {
        "colab": {
          "base_uri": "https://localhost:8080/",
          "height": 254,
          "referenced_widgets": [
            "58193e304cc044e2afcb8c1caa45b45b",
            "5819064ca72544a1a5dcd692b6fd2f0b",
            "a4ae4b16d48a48dcbabea04331b486a6",
            "4b5313498f9f4ec9a15a364ee7ed6b25",
            "e6ed6f8214b04610bca46f4ab74618b6",
            "f2b51641b57146b4ab412edf08e949b5",
            "39cc2ed965d444fca1f69102b6f18424",
            "5bc50008b1454be48792a8aedbf30ea6",
            "54714e9a811c4b5283460b011d317baa",
            "d20287a777fc47bca6d479a8a01720aa",
            "e8acea569f844333909dc8283e8d9f5d",
            "5e2cb523781d429c8d3d51a57016bce9",
            "848639b4d5c447b09a4188bdec9ecdcb",
            "84209e9289c245e997d9504f7d9b39d2",
            "1d622a90b49449f9886ee59fe1765a75",
            "8cb920ecb5c541a3830330340c5ee512",
            "de44563369e44b2eaacc927171e40390",
            "2a6effbab3a54f5bb9cd3b25d45908ad",
            "84179f5f88a34831926cb3baf343f955",
            "3341aa0dcb4b49ca907d3af3e609938f",
            "b3cdf56950b340f788e9bd1f98053025",
            "10aa85ad928d498c9464b908ada9f25e",
            "775b17ff7c134a55a0a1e64b3a33387d",
            "8ed262e8baf148aba4488dc0094c6ae8",
            "cdf30aef42114943a772a015f7cb17c1",
            "8d471c9fe91b46d3821009aa5016d87f",
            "90d63c6c40c44d68a40d2201c87023c6",
            "f1d29be7eeae4fd5aee64a40e47562a6",
            "2329588eb655497293633d38408abdc3",
            "a9659046cd624d4a8cc10512be81d2b2",
            "65fa22cc1bd24a4fb50d8d5ebda5d143",
            "61349c4ee9274291a2849f9c431be587",
            "d96aba65a7b044128edc450d0ecee7cb",
            "991b9cc251364a66852d5a2eb7f030ff",
            "d39fb24c3e034e918b8a710d4efba137",
            "c2621e803aad4414a8efe9caf7529702",
            "87ea742a7c2d4b9a858ee10a2ff7a59f",
            "a85de5c1346c4380945f089bd1155a5d",
            "9755ea04d2724db88b257fb81819c588",
            "ccfcfef100c44b25a23e3c8d16e2984f",
            "d5df98b95b574ad09adae78e863a0e67",
            "5c7c12bbad72494db4154edd34c8091a",
            "ea2e22ab4a1f418f8e82dce87c204e7d",
            "9417aeaa5763442685d42e9dc480a588"
          ]
        },
        "id": "Ea6R8CaEnqQr",
        "outputId": "8c7b5777-7157-4fce-dbeb-10673463ab17"
      },
      "execution_count": 129,
      "outputs": [
        {
          "output_type": "display_data",
          "data": {
            "text/plain": [
              "Downloading (…)solve/main/vocab.txt:   0%|          | 0.00/232k [00:00<?, ?B/s]"
            ],
            "application/vnd.jupyter.widget-view+json": {
              "version_major": 2,
              "version_minor": 0,
              "model_id": "58193e304cc044e2afcb8c1caa45b45b"
            }
          },
          "metadata": {}
        },
        {
          "output_type": "display_data",
          "data": {
            "text/plain": [
              "Downloading (…)okenizer_config.json:   0%|          | 0.00/28.0 [00:00<?, ?B/s]"
            ],
            "application/vnd.jupyter.widget-view+json": {
              "version_major": 2,
              "version_minor": 0,
              "model_id": "5e2cb523781d429c8d3d51a57016bce9"
            }
          },
          "metadata": {}
        },
        {
          "output_type": "display_data",
          "data": {
            "text/plain": [
              "Downloading (…)lve/main/config.json:   0%|          | 0.00/570 [00:00<?, ?B/s]"
            ],
            "application/vnd.jupyter.widget-view+json": {
              "version_major": 2,
              "version_minor": 0,
              "model_id": "775b17ff7c134a55a0a1e64b3a33387d"
            }
          },
          "metadata": {}
        },
        {
          "output_type": "display_data",
          "data": {
            "text/plain": [
              "Downloading pytorch_model.bin:   0%|          | 0.00/440M [00:00<?, ?B/s]"
            ],
            "application/vnd.jupyter.widget-view+json": {
              "version_major": 2,
              "version_minor": 0,
              "model_id": "991b9cc251364a66852d5a2eb7f030ff"
            }
          },
          "metadata": {}
        },
        {
          "output_type": "stream",
          "name": "stderr",
          "text": [
            "Some weights of the model checkpoint at bert-base-uncased were not used when initializing BertForSequenceClassification: ['cls.predictions.transform.dense.weight', 'cls.predictions.bias', 'cls.predictions.decoder.weight', 'cls.seq_relationship.weight', 'cls.predictions.transform.LayerNorm.bias', 'cls.seq_relationship.bias', 'cls.predictions.transform.dense.bias', 'cls.predictions.transform.LayerNorm.weight']\n",
            "- This IS expected if you are initializing BertForSequenceClassification from the checkpoint of a model trained on another task or with another architecture (e.g. initializing a BertForSequenceClassification model from a BertForPreTraining model).\n",
            "- This IS NOT expected if you are initializing BertForSequenceClassification from the checkpoint of a model that you expect to be exactly identical (initializing a BertForSequenceClassification model from a BertForSequenceClassification model).\n",
            "Some weights of BertForSequenceClassification were not initialized from the model checkpoint at bert-base-uncased and are newly initialized: ['classifier.weight', 'classifier.bias']\n",
            "You should probably TRAIN this model on a down-stream task to be able to use it for predictions and inference.\n"
          ]
        }
      ]
    },
    {
      "cell_type": "code",
      "source": [
        "sentiment = []\n",
        "sentiment_gpt = []\n",
        "for sentence, sent_gpt in zip(sentences, sentences_gpt):\n",
        "  sentiment.append(analyze_sentiment(sentence))\n",
        "  sentiment_gpt.append(analyze_sentiment(sent_gpt))"
      ],
      "metadata": {
        "id": "dAaBllJun6bv"
      },
      "execution_count": 134,
      "outputs": []
    },
    {
      "cell_type": "code",
      "source": [
        "print('Average sentiment of fine-tuned model sentences: ', sum(sentiment)/len(sentiment))\n",
        "print('Average sentiment of GPT4 sentences: ', sum(sentiment_gpt)/len(sentiment_gpt))"
      ],
      "metadata": {
        "colab": {
          "base_uri": "https://localhost:8080/"
        },
        "id": "rpwsTt4XqVGy",
        "outputId": "a53f5991-def7-4d1b-dcd4-62da03c81c71"
      },
      "execution_count": 143,
      "outputs": [
        {
          "output_type": "stream",
          "name": "stdout",
          "text": [
            "Average sentiment of fine-tuned model sentences:  0.5825870384772619\n",
            "Average sentiment of GPT4 sentences:  0.6366612017154694\n"
          ]
        }
      ]
    },
    {
      "cell_type": "markdown",
      "source": [
        "We can see that the average sentiment of sentences generated by GPT4 is slightly higher compared to that of the fine-tuned model. While it is hard to make concrete claims about why this might be the case, perhaps generic LLMs always try to say more neutral and positive statements since they are trained on so much data. The fine-tuned model however was fine-tuned on newspaper articles and headlines which need not always be positive or neutral. Perhaps this skews the sentiment of these two.\n",
        "\n",
        "This again reiterates the potential that specialized LLMs might have to produce different outputs. For instance, a journalist might prefer a model that gives outputs similar to the fine-tuned model as opposed to producing generic text like GPT4."
      ],
      "metadata": {
        "id": "9eHEw1pproza"
      }
    },
    {
      "cell_type": "code",
      "source": [],
      "metadata": {
        "id": "6PfhOtjdq_0V"
      },
      "execution_count": null,
      "outputs": []
    }
  ]
}
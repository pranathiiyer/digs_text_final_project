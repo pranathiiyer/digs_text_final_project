{
 "cells": [
  {
   "cell_type": "code",
   "execution_count": 15,
   "id": "51aefb0f",
   "metadata": {},
   "outputs": [],
   "source": [
    "import pandas as pd\n",
    "import matplotlib.pyplot as plt"
   ]
  },
  {
   "cell_type": "markdown",
   "id": "2e235c94",
   "metadata": {},
   "source": [
    "### Importing the data"
   ]
  },
  {
   "cell_type": "code",
   "execution_count": 2,
   "id": "034025b9",
   "metadata": {},
   "outputs": [],
   "source": [
    "df_1 = pd.read_csv('/Users/pranathiiyer/Downloads/IndianFinancialNews.csv')\n",
    "df_2 = pd.read_csv('/Users/pranathiiyer/Downloads/2020_headlines_updated.csv')"
   ]
  },
  {
   "cell_type": "code",
   "execution_count": 3,
   "id": "a08c1f4f",
   "metadata": {},
   "outputs": [
    {
     "data": {
      "text/html": [
       "<div>\n",
       "<style scoped>\n",
       "    .dataframe tbody tr th:only-of-type {\n",
       "        vertical-align: middle;\n",
       "    }\n",
       "\n",
       "    .dataframe tbody tr th {\n",
       "        vertical-align: top;\n",
       "    }\n",
       "\n",
       "    .dataframe thead th {\n",
       "        text-align: right;\n",
       "    }\n",
       "</style>\n",
       "<table border=\"1\" class=\"dataframe\">\n",
       "  <thead>\n",
       "    <tr style=\"text-align: right;\">\n",
       "      <th></th>\n",
       "      <th>Unnamed: 0</th>\n",
       "      <th>year</th>\n",
       "      <th>month</th>\n",
       "      <th>day</th>\n",
       "      <th>headlines</th>\n",
       "    </tr>\n",
       "  </thead>\n",
       "  <tbody>\n",
       "    <tr>\n",
       "      <th>0</th>\n",
       "      <td>0</td>\n",
       "      <td>2020</td>\n",
       "      <td>1</td>\n",
       "      <td>1</td>\n",
       "      <td>Shivin Narang injures his hand on the set of h...</td>\n",
       "    </tr>\n",
       "    <tr>\n",
       "      <th>1</th>\n",
       "      <td>1</td>\n",
       "      <td>2020</td>\n",
       "      <td>1</td>\n",
       "      <td>1</td>\n",
       "      <td>Allergy cases on the rise in Bengaluru</td>\n",
       "    </tr>\n",
       "    <tr>\n",
       "      <th>2</th>\n",
       "      <td>2</td>\n",
       "      <td>2020</td>\n",
       "      <td>1</td>\n",
       "      <td>1</td>\n",
       "      <td>A grand Hanukkah celebration held in the city</td>\n",
       "    </tr>\n",
       "    <tr>\n",
       "      <th>3</th>\n",
       "      <td>3</td>\n",
       "      <td>2020</td>\n",
       "      <td>1</td>\n",
       "      <td>1</td>\n",
       "      <td>I respect my competitors, because they bring o...</td>\n",
       "    </tr>\n",
       "    <tr>\n",
       "      <th>4</th>\n",
       "      <td>4</td>\n",
       "      <td>2020</td>\n",
       "      <td>1</td>\n",
       "      <td>1</td>\n",
       "      <td>Strong New Year resolutions keep young minds m...</td>\n",
       "    </tr>\n",
       "  </tbody>\n",
       "</table>\n",
       "</div>"
      ],
      "text/plain": [
       "   Unnamed: 0  year  month  day  \\\n",
       "0           0  2020      1    1   \n",
       "1           1  2020      1    1   \n",
       "2           2  2020      1    1   \n",
       "3           3  2020      1    1   \n",
       "4           4  2020      1    1   \n",
       "\n",
       "                                           headlines  \n",
       "0  Shivin Narang injures his hand on the set of h...  \n",
       "1             Allergy cases on the rise in Bengaluru  \n",
       "2      A grand Hanukkah celebration held in the city  \n",
       "3  I respect my competitors, because they bring o...  \n",
       "4  Strong New Year resolutions keep young minds m...  "
      ]
     },
     "execution_count": 3,
     "metadata": {},
     "output_type": "execute_result"
    }
   ],
   "source": [
    "df_2.head()"
   ]
  },
  {
   "cell_type": "markdown",
   "id": "a01b9acc",
   "metadata": {},
   "source": [
    "The dataset of headlines has 176,950 observations, we sample 100,000 from these for logistical ease of training the model"
   ]
  },
  {
   "cell_type": "code",
   "execution_count": 3,
   "id": "a076ea92",
   "metadata": {},
   "outputs": [
    {
     "data": {
      "text/plain": [
       "176950"
      ]
     },
     "execution_count": 3,
     "metadata": {},
     "output_type": "execute_result"
    }
   ],
   "source": [
    "len(df_2)"
   ]
  },
  {
   "cell_type": "code",
   "execution_count": 4,
   "id": "daa90570",
   "metadata": {},
   "outputs": [],
   "source": [
    "df_2 = df_2.sample(n=100000, random_state=42)"
   ]
  },
  {
   "cell_type": "code",
   "execution_count": 6,
   "id": "70810f77",
   "metadata": {},
   "outputs": [],
   "source": [
    "column1 = df_1['Description']\n",
    "column2 = df_2['headlines']"
   ]
  },
  {
   "cell_type": "markdown",
   "id": "134dd9fb",
   "metadata": {},
   "source": [
    "Making one large consolidated dataset"
   ]
  },
  {
   "cell_type": "code",
   "execution_count": 7,
   "id": "8fc8cdb7",
   "metadata": {},
   "outputs": [],
   "source": [
    "result = pd.concat([column1, column2], axis=0)"
   ]
  },
  {
   "cell_type": "code",
   "execution_count": 8,
   "id": "86bb5b62",
   "metadata": {},
   "outputs": [],
   "source": [
    "final_dfm= pd.DataFrame({'Text': result})\n",
    "final_dfm.dropna(inplace = True)"
   ]
  },
  {
   "cell_type": "markdown",
   "id": "5ed28c25",
   "metadata": {},
   "source": [
    "Writing to a file"
   ]
  },
  {
   "cell_type": "code",
   "execution_count": 11,
   "id": "9a1fce12",
   "metadata": {},
   "outputs": [],
   "source": [
    "\n",
    "# Step 3: Save the text data into a text file\n",
    "with open('nlp_final_project_1.txt', 'w', encoding='utf-8') as file:\n",
    "    file.write('\\n'.join(final_dfm['Text'].to_list()))"
   ]
  },
  {
   "cell_type": "code",
   "execution_count": 13,
   "id": "a75beb0e",
   "metadata": {},
   "outputs": [],
   "source": [
    "df_1.dropna(inplace = True)"
   ]
  },
  {
   "cell_type": "code",
   "execution_count": 14,
   "id": "5462a7dd",
   "metadata": {},
   "outputs": [],
   "source": [
    "df_1['tex_len'] = df_1['Description'].apply(len)"
   ]
  },
  {
   "cell_type": "code",
   "execution_count": 16,
   "id": "d5d77058",
   "metadata": {},
   "outputs": [
    {
     "data": {
      "text/plain": [
       "<AxesSubplot: >"
      ]
     },
     "execution_count": 16,
     "metadata": {},
     "output_type": "execute_result"
    },
    {
     "data": {
      "image/png": "[encoded data removed]",
      "text/plain": [
       "<Figure size 432x288 with 1 Axes>"
      ]
     },
     "metadata": {
      "needs_background": "light"
     },
     "output_type": "display_data"
    }
   ],
   "source": [
    "df_1['tex_len'].plot()"
   ]
  },
  {
   "cell_type": "code",
   "execution_count": null,
   "id": "0ff0e97b",
   "metadata": {},
   "outputs": [],
   "source": []
  }
 ],
 "metadata": {
  "kernelspec": {
   "display_name": "Python 3 (ipykernel)",
   "language": "python",
   "name": "python3"
  },
  "language_info": {
   "codemirror_mode": {
    "name": "ipython",
    "version": 3
   },
   "file_extension": ".py",
   "mimetype": "text/x-python",
   "name": "python",
   "nbconvert_exporter": "python",
   "pygments_lexer": "ipython3",
   "version": "3.9.12"
  }
 },
 "nbformat": 4,
 "nbformat_minor": 5
}
